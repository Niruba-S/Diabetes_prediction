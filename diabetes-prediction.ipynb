{
 "cells": [
  {
   "cell_type": "code",
   "execution_count": 1,
   "id": "469052ad",
   "metadata": {
    "_cell_guid": "b1076dfc-b9ad-4769-8c92-a6c4dae69d19",
    "_uuid": "8f2839f25d086af736a60e9eeb907d3b93b6e0e5",
    "execution": {
     "iopub.execute_input": "2023-03-28T04:54:57.341460Z",
     "iopub.status.busy": "2023-03-28T04:54:57.340322Z",
     "iopub.status.idle": "2023-03-28T04:54:58.318060Z",
     "shell.execute_reply": "2023-03-28T04:54:58.316783Z"
    },
    "papermill": {
     "duration": 0.991104,
     "end_time": "2023-03-28T04:54:58.321058",
     "exception": false,
     "start_time": "2023-03-28T04:54:57.329954",
     "status": "completed"
    },
    "tags": []
   },
   "outputs": [],
   "source": [
    "import numpy as np\n",
    "import pandas as pd\n",
    "from sklearn.preprocessing import StandardScaler\n",
    "from sklearn.model_selection import train_test_split\n",
    "from sklearn import svm\n",
    "from sklearn.metrics import accuracy_score\n"
   ]
  },
  {
   "cell_type": "code",
   "execution_count": 2,
   "id": "238c2b12",
   "metadata": {
    "execution": {
     "iopub.execute_input": "2023-03-28T04:54:58.338826Z",
     "iopub.status.busy": "2023-03-28T04:54:58.338130Z",
     "iopub.status.idle": "2023-03-28T04:54:58.801924Z",
     "shell.execute_reply": "2023-03-28T04:54:58.800996Z"
    },
    "papermill": {
     "duration": 0.475757,
     "end_time": "2023-03-28T04:54:58.804670",
     "exception": false,
     "start_time": "2023-03-28T04:54:58.328913",
     "status": "completed"
    },
    "tags": []
   },
   "outputs": [],
   "source": [
    "diabetes_dataset = pd.read_excel('/kaggle/input/diabetes-dataset/diabetes.xlsx') "
   ]
  },
  {
   "cell_type": "code",
   "execution_count": 3,
   "id": "ae90b2de",
   "metadata": {
    "execution": {
     "iopub.execute_input": "2023-03-28T04:54:58.822547Z",
     "iopub.status.busy": "2023-03-28T04:54:58.821484Z",
     "iopub.status.idle": "2023-03-28T04:54:58.850330Z",
     "shell.execute_reply": "2023-03-28T04:54:58.848851Z"
    },
    "papermill": {
     "duration": 0.041504,
     "end_time": "2023-03-28T04:54:58.853903",
     "exception": false,
     "start_time": "2023-03-28T04:54:58.812399",
     "status": "completed"
    },
    "tags": []
   },
   "outputs": [
    {
     "data": {
      "text/html": [
       "<div>\n",
       "<style scoped>\n",
       "    .dataframe tbody tr th:only-of-type {\n",
       "        vertical-align: middle;\n",
       "    }\n",
       "\n",
       "    .dataframe tbody tr th {\n",
       "        vertical-align: top;\n",
       "    }\n",
       "\n",
       "    .dataframe thead th {\n",
       "        text-align: right;\n",
       "    }\n",
       "</style>\n",
       "<table border=\"1\" class=\"dataframe\">\n",
       "  <thead>\n",
       "    <tr style=\"text-align: right;\">\n",
       "      <th></th>\n",
       "      <th>Unnamed: 0</th>\n",
       "      <th>Pregnancies</th>\n",
       "      <th>Glucose</th>\n",
       "      <th>BloodPressure</th>\n",
       "      <th>SkinThickness</th>\n",
       "      <th>Insulin</th>\n",
       "      <th>BMI</th>\n",
       "      <th>DiabetesPedigreeFunction</th>\n",
       "      <th>Age</th>\n",
       "      <th>Outcome</th>\n",
       "    </tr>\n",
       "  </thead>\n",
       "  <tbody>\n",
       "    <tr>\n",
       "      <th>0</th>\n",
       "      <td>1</td>\n",
       "      <td>2</td>\n",
       "      <td>85</td>\n",
       "      <td>89</td>\n",
       "      <td>0</td>\n",
       "      <td>0</td>\n",
       "      <td>43.0</td>\n",
       "      <td>0.351</td>\n",
       "      <td>50</td>\n",
       "      <td>1</td>\n",
       "    </tr>\n",
       "    <tr>\n",
       "      <th>1</th>\n",
       "      <td>2</td>\n",
       "      <td>6</td>\n",
       "      <td>148</td>\n",
       "      <td>72</td>\n",
       "      <td>35</td>\n",
       "      <td>0</td>\n",
       "      <td>33.6</td>\n",
       "      <td>0.627</td>\n",
       "      <td>50</td>\n",
       "      <td>1</td>\n",
       "    </tr>\n",
       "    <tr>\n",
       "      <th>2</th>\n",
       "      <td>3</td>\n",
       "      <td>1</td>\n",
       "      <td>85</td>\n",
       "      <td>66</td>\n",
       "      <td>29</td>\n",
       "      <td>0</td>\n",
       "      <td>26.6</td>\n",
       "      <td>0.351</td>\n",
       "      <td>31</td>\n",
       "      <td>0</td>\n",
       "    </tr>\n",
       "    <tr>\n",
       "      <th>3</th>\n",
       "      <td>4</td>\n",
       "      <td>8</td>\n",
       "      <td>183</td>\n",
       "      <td>64</td>\n",
       "      <td>0</td>\n",
       "      <td>0</td>\n",
       "      <td>23.3</td>\n",
       "      <td>0.672</td>\n",
       "      <td>32</td>\n",
       "      <td>1</td>\n",
       "    </tr>\n",
       "    <tr>\n",
       "      <th>4</th>\n",
       "      <td>5</td>\n",
       "      <td>1</td>\n",
       "      <td>89</td>\n",
       "      <td>66</td>\n",
       "      <td>23</td>\n",
       "      <td>94</td>\n",
       "      <td>28.1</td>\n",
       "      <td>0.167</td>\n",
       "      <td>21</td>\n",
       "      <td>0</td>\n",
       "    </tr>\n",
       "  </tbody>\n",
       "</table>\n",
       "</div>"
      ],
      "text/plain": [
       "   Unnamed: 0  Pregnancies  Glucose  BloodPressure  SkinThickness  Insulin  \\\n",
       "0           1            2       85             89              0        0   \n",
       "1           2            6      148             72             35        0   \n",
       "2           3            1       85             66             29        0   \n",
       "3           4            8      183             64              0        0   \n",
       "4           5            1       89             66             23       94   \n",
       "\n",
       "    BMI  DiabetesPedigreeFunction  Age  Outcome  \n",
       "0  43.0                     0.351   50        1  \n",
       "1  33.6                     0.627   50        1  \n",
       "2  26.6                     0.351   31        0  \n",
       "3  23.3                     0.672   32        1  \n",
       "4  28.1                     0.167   21        0  "
      ]
     },
     "execution_count": 3,
     "metadata": {},
     "output_type": "execute_result"
    }
   ],
   "source": [
    "diabetes_dataset.head()"
   ]
  },
  {
   "cell_type": "code",
   "execution_count": 4,
   "id": "20ffbf09",
   "metadata": {
    "execution": {
     "iopub.execute_input": "2023-03-28T04:54:58.873712Z",
     "iopub.status.busy": "2023-03-28T04:54:58.873275Z",
     "iopub.status.idle": "2023-03-28T04:54:58.880377Z",
     "shell.execute_reply": "2023-03-28T04:54:58.878944Z"
    },
    "papermill": {
     "duration": 0.019696,
     "end_time": "2023-03-28T04:54:58.882905",
     "exception": false,
     "start_time": "2023-03-28T04:54:58.863209",
     "status": "completed"
    },
    "tags": []
   },
   "outputs": [
    {
     "data": {
      "text/plain": [
       "(769, 10)"
      ]
     },
     "execution_count": 4,
     "metadata": {},
     "output_type": "execute_result"
    }
   ],
   "source": [
    "diabetes_dataset.shape"
   ]
  },
  {
   "cell_type": "code",
   "execution_count": 5,
   "id": "96d66a56",
   "metadata": {
    "execution": {
     "iopub.execute_input": "2023-03-28T04:54:58.901283Z",
     "iopub.status.busy": "2023-03-28T04:54:58.900895Z",
     "iopub.status.idle": "2023-03-28T04:54:58.947979Z",
     "shell.execute_reply": "2023-03-28T04:54:58.946813Z"
    },
    "papermill": {
     "duration": 0.059102,
     "end_time": "2023-03-28T04:54:58.950405",
     "exception": false,
     "start_time": "2023-03-28T04:54:58.891303",
     "status": "completed"
    },
    "tags": []
   },
   "outputs": [
    {
     "data": {
      "text/html": [
       "<div>\n",
       "<style scoped>\n",
       "    .dataframe tbody tr th:only-of-type {\n",
       "        vertical-align: middle;\n",
       "    }\n",
       "\n",
       "    .dataframe tbody tr th {\n",
       "        vertical-align: top;\n",
       "    }\n",
       "\n",
       "    .dataframe thead th {\n",
       "        text-align: right;\n",
       "    }\n",
       "</style>\n",
       "<table border=\"1\" class=\"dataframe\">\n",
       "  <thead>\n",
       "    <tr style=\"text-align: right;\">\n",
       "      <th></th>\n",
       "      <th>Unnamed: 0</th>\n",
       "      <th>Pregnancies</th>\n",
       "      <th>Glucose</th>\n",
       "      <th>BloodPressure</th>\n",
       "      <th>SkinThickness</th>\n",
       "      <th>Insulin</th>\n",
       "      <th>BMI</th>\n",
       "      <th>DiabetesPedigreeFunction</th>\n",
       "      <th>Age</th>\n",
       "      <th>Outcome</th>\n",
       "    </tr>\n",
       "  </thead>\n",
       "  <tbody>\n",
       "    <tr>\n",
       "      <th>count</th>\n",
       "      <td>769.000000</td>\n",
       "      <td>769.000000</td>\n",
       "      <td>769.000000</td>\n",
       "      <td>769.000000</td>\n",
       "      <td>769.000000</td>\n",
       "      <td>769.000000</td>\n",
       "      <td>769.000000</td>\n",
       "      <td>769.000000</td>\n",
       "      <td>769.000000</td>\n",
       "      <td>769.000000</td>\n",
       "    </tr>\n",
       "    <tr>\n",
       "      <th>mean</th>\n",
       "      <td>385.000000</td>\n",
       "      <td>3.842653</td>\n",
       "      <td>120.847854</td>\n",
       "      <td>69.131339</td>\n",
       "      <td>20.509753</td>\n",
       "      <td>79.695709</td>\n",
       "      <td>32.006892</td>\n",
       "      <td>0.471719</td>\n",
       "      <td>33.262679</td>\n",
       "      <td>0.349805</td>\n",
       "    </tr>\n",
       "    <tr>\n",
       "      <th>std</th>\n",
       "      <td>222.135469</td>\n",
       "      <td>3.368041</td>\n",
       "      <td>31.978003</td>\n",
       "      <td>19.356501</td>\n",
       "      <td>15.959020</td>\n",
       "      <td>115.204894</td>\n",
       "      <td>7.889018</td>\n",
       "      <td>0.331142</td>\n",
       "      <td>11.768101</td>\n",
       "      <td>0.477219</td>\n",
       "    </tr>\n",
       "    <tr>\n",
       "      <th>min</th>\n",
       "      <td>1.000000</td>\n",
       "      <td>0.000000</td>\n",
       "      <td>0.000000</td>\n",
       "      <td>0.000000</td>\n",
       "      <td>0.000000</td>\n",
       "      <td>0.000000</td>\n",
       "      <td>0.000000</td>\n",
       "      <td>0.078000</td>\n",
       "      <td>21.000000</td>\n",
       "      <td>0.000000</td>\n",
       "    </tr>\n",
       "    <tr>\n",
       "      <th>25%</th>\n",
       "      <td>193.000000</td>\n",
       "      <td>1.000000</td>\n",
       "      <td>99.000000</td>\n",
       "      <td>62.000000</td>\n",
       "      <td>0.000000</td>\n",
       "      <td>0.000000</td>\n",
       "      <td>27.300000</td>\n",
       "      <td>0.244000</td>\n",
       "      <td>24.000000</td>\n",
       "      <td>0.000000</td>\n",
       "    </tr>\n",
       "    <tr>\n",
       "      <th>50%</th>\n",
       "      <td>385.000000</td>\n",
       "      <td>3.000000</td>\n",
       "      <td>117.000000</td>\n",
       "      <td>72.000000</td>\n",
       "      <td>23.000000</td>\n",
       "      <td>29.000000</td>\n",
       "      <td>32.000000</td>\n",
       "      <td>0.371000</td>\n",
       "      <td>29.000000</td>\n",
       "      <td>0.000000</td>\n",
       "    </tr>\n",
       "    <tr>\n",
       "      <th>75%</th>\n",
       "      <td>577.000000</td>\n",
       "      <td>6.000000</td>\n",
       "      <td>140.000000</td>\n",
       "      <td>80.000000</td>\n",
       "      <td>32.000000</td>\n",
       "      <td>127.000000</td>\n",
       "      <td>36.600000</td>\n",
       "      <td>0.626000</td>\n",
       "      <td>41.000000</td>\n",
       "      <td>1.000000</td>\n",
       "    </tr>\n",
       "    <tr>\n",
       "      <th>max</th>\n",
       "      <td>769.000000</td>\n",
       "      <td>17.000000</td>\n",
       "      <td>199.000000</td>\n",
       "      <td>122.000000</td>\n",
       "      <td>99.000000</td>\n",
       "      <td>846.000000</td>\n",
       "      <td>67.100000</td>\n",
       "      <td>2.420000</td>\n",
       "      <td>81.000000</td>\n",
       "      <td>1.000000</td>\n",
       "    </tr>\n",
       "  </tbody>\n",
       "</table>\n",
       "</div>"
      ],
      "text/plain": [
       "       Unnamed: 0  Pregnancies     Glucose  BloodPressure  SkinThickness  \\\n",
       "count  769.000000   769.000000  769.000000     769.000000     769.000000   \n",
       "mean   385.000000     3.842653  120.847854      69.131339      20.509753   \n",
       "std    222.135469     3.368041   31.978003      19.356501      15.959020   \n",
       "min      1.000000     0.000000    0.000000       0.000000       0.000000   \n",
       "25%    193.000000     1.000000   99.000000      62.000000       0.000000   \n",
       "50%    385.000000     3.000000  117.000000      72.000000      23.000000   \n",
       "75%    577.000000     6.000000  140.000000      80.000000      32.000000   \n",
       "max    769.000000    17.000000  199.000000     122.000000      99.000000   \n",
       "\n",
       "          Insulin         BMI  DiabetesPedigreeFunction         Age  \\\n",
       "count  769.000000  769.000000                769.000000  769.000000   \n",
       "mean    79.695709   32.006892                  0.471719   33.262679   \n",
       "std    115.204894    7.889018                  0.331142   11.768101   \n",
       "min      0.000000    0.000000                  0.078000   21.000000   \n",
       "25%      0.000000   27.300000                  0.244000   24.000000   \n",
       "50%     29.000000   32.000000                  0.371000   29.000000   \n",
       "75%    127.000000   36.600000                  0.626000   41.000000   \n",
       "max    846.000000   67.100000                  2.420000   81.000000   \n",
       "\n",
       "          Outcome  \n",
       "count  769.000000  \n",
       "mean     0.349805  \n",
       "std      0.477219  \n",
       "min      0.000000  \n",
       "25%      0.000000  \n",
       "50%      0.000000  \n",
       "75%      1.000000  \n",
       "max      1.000000  "
      ]
     },
     "execution_count": 5,
     "metadata": {},
     "output_type": "execute_result"
    }
   ],
   "source": [
    "diabetes_dataset.describe()"
   ]
  },
  {
   "cell_type": "code",
   "execution_count": 6,
   "id": "2801ddd2",
   "metadata": {
    "execution": {
     "iopub.execute_input": "2023-03-28T04:54:58.969366Z",
     "iopub.status.busy": "2023-03-28T04:54:58.968223Z",
     "iopub.status.idle": "2023-03-28T04:54:58.977342Z",
     "shell.execute_reply": "2023-03-28T04:54:58.976245Z"
    },
    "papermill": {
     "duration": 0.021054,
     "end_time": "2023-03-28T04:54:58.979810",
     "exception": false,
     "start_time": "2023-03-28T04:54:58.958756",
     "status": "completed"
    },
    "tags": []
   },
   "outputs": [
    {
     "data": {
      "text/plain": [
       "0    500\n",
       "1    269\n",
       "Name: Outcome, dtype: int64"
      ]
     },
     "execution_count": 6,
     "metadata": {},
     "output_type": "execute_result"
    }
   ],
   "source": [
    "diabetes_dataset['Outcome'].value_counts()"
   ]
  },
  {
   "cell_type": "code",
   "execution_count": 7,
   "id": "87af14dc",
   "metadata": {
    "execution": {
     "iopub.execute_input": "2023-03-28T04:54:58.998477Z",
     "iopub.status.busy": "2023-03-28T04:54:58.998058Z",
     "iopub.status.idle": "2023-03-28T04:54:59.017826Z",
     "shell.execute_reply": "2023-03-28T04:54:59.016872Z"
    },
    "papermill": {
     "duration": 0.031707,
     "end_time": "2023-03-28T04:54:59.019961",
     "exception": false,
     "start_time": "2023-03-28T04:54:58.988254",
     "status": "completed"
    },
    "tags": []
   },
   "outputs": [
    {
     "data": {
      "text/html": [
       "<div>\n",
       "<style scoped>\n",
       "    .dataframe tbody tr th:only-of-type {\n",
       "        vertical-align: middle;\n",
       "    }\n",
       "\n",
       "    .dataframe tbody tr th {\n",
       "        vertical-align: top;\n",
       "    }\n",
       "\n",
       "    .dataframe thead th {\n",
       "        text-align: right;\n",
       "    }\n",
       "</style>\n",
       "<table border=\"1\" class=\"dataframe\">\n",
       "  <thead>\n",
       "    <tr style=\"text-align: right;\">\n",
       "      <th></th>\n",
       "      <th>Unnamed: 0</th>\n",
       "      <th>Pregnancies</th>\n",
       "      <th>Glucose</th>\n",
       "      <th>BloodPressure</th>\n",
       "      <th>SkinThickness</th>\n",
       "      <th>Insulin</th>\n",
       "      <th>BMI</th>\n",
       "      <th>DiabetesPedigreeFunction</th>\n",
       "      <th>Age</th>\n",
       "    </tr>\n",
       "    <tr>\n",
       "      <th>Outcome</th>\n",
       "      <th></th>\n",
       "      <th></th>\n",
       "      <th></th>\n",
       "      <th></th>\n",
       "      <th></th>\n",
       "      <th></th>\n",
       "      <th></th>\n",
       "      <th></th>\n",
       "      <th></th>\n",
       "    </tr>\n",
       "  </thead>\n",
       "  <tbody>\n",
       "    <tr>\n",
       "      <th>0</th>\n",
       "      <td>392.834000</td>\n",
       "      <td>3.298000</td>\n",
       "      <td>109.980000</td>\n",
       "      <td>68.184000</td>\n",
       "      <td>19.664000</td>\n",
       "      <td>68.792000</td>\n",
       "      <td>30.304200</td>\n",
       "      <td>0.429734</td>\n",
       "      <td>31.190000</td>\n",
       "    </tr>\n",
       "    <tr>\n",
       "      <th>1</th>\n",
       "      <td>370.438662</td>\n",
       "      <td>4.855019</td>\n",
       "      <td>141.048327</td>\n",
       "      <td>70.892193</td>\n",
       "      <td>22.081784</td>\n",
       "      <td>99.962825</td>\n",
       "      <td>35.171747</td>\n",
       "      <td>0.549758</td>\n",
       "      <td>37.115242</td>\n",
       "    </tr>\n",
       "  </tbody>\n",
       "</table>\n",
       "</div>"
      ],
      "text/plain": [
       "         Unnamed: 0  Pregnancies     Glucose  BloodPressure  SkinThickness  \\\n",
       "Outcome                                                                      \n",
       "0        392.834000     3.298000  109.980000      68.184000      19.664000   \n",
       "1        370.438662     4.855019  141.048327      70.892193      22.081784   \n",
       "\n",
       "           Insulin        BMI  DiabetesPedigreeFunction        Age  \n",
       "Outcome                                                             \n",
       "0        68.792000  30.304200                  0.429734  31.190000  \n",
       "1        99.962825  35.171747                  0.549758  37.115242  "
      ]
     },
     "execution_count": 7,
     "metadata": {},
     "output_type": "execute_result"
    }
   ],
   "source": [
    "diabetes_dataset.groupby('Outcome').mean()"
   ]
  },
  {
   "cell_type": "code",
   "execution_count": 8,
   "id": "7c85fb80",
   "metadata": {
    "execution": {
     "iopub.execute_input": "2023-03-28T04:54:59.040000Z",
     "iopub.status.busy": "2023-03-28T04:54:59.039560Z",
     "iopub.status.idle": "2023-03-28T04:54:59.045925Z",
     "shell.execute_reply": "2023-03-28T04:54:59.044721Z"
    },
    "papermill": {
     "duration": 0.018719,
     "end_time": "2023-03-28T04:54:59.048209",
     "exception": false,
     "start_time": "2023-03-28T04:54:59.029490",
     "status": "completed"
    },
    "tags": []
   },
   "outputs": [],
   "source": [
    "X = diabetes_dataset.drop(columns = 'Outcome', axis=1)\n",
    "Y = diabetes_dataset['Outcome']"
   ]
  },
  {
   "cell_type": "code",
   "execution_count": 9,
   "id": "d8750989",
   "metadata": {
    "execution": {
     "iopub.execute_input": "2023-03-28T04:54:59.067263Z",
     "iopub.status.busy": "2023-03-28T04:54:59.066833Z",
     "iopub.status.idle": "2023-03-28T04:54:59.079833Z",
     "shell.execute_reply": "2023-03-28T04:54:59.077616Z"
    },
    "papermill": {
     "duration": 0.026233,
     "end_time": "2023-03-28T04:54:59.082971",
     "exception": false,
     "start_time": "2023-03-28T04:54:59.056738",
     "status": "completed"
    },
    "tags": []
   },
   "outputs": [
    {
     "name": "stdout",
     "output_type": "stream",
     "text": [
      "     Unnamed: 0  Pregnancies  Glucose  BloodPressure  SkinThickness  Insulin  \\\n",
      "0             1            2       85             89              0        0   \n",
      "1             2            6      148             72             35        0   \n",
      "2             3            1       85             66             29        0   \n",
      "3             4            8      183             64              0        0   \n",
      "4             5            1       89             66             23       94   \n",
      "..          ...          ...      ...            ...            ...      ...   \n",
      "764         765           10      101             76             48      180   \n",
      "765         766            2      122             70             27        0   \n",
      "766         767            5      121             72             23      112   \n",
      "767         768            1      126             60              0        0   \n",
      "768         769            1       93             70             31        0   \n",
      "\n",
      "      BMI  DiabetesPedigreeFunction  Age  \n",
      "0    43.0                     0.351   50  \n",
      "1    33.6                     0.627   50  \n",
      "2    26.6                     0.351   31  \n",
      "3    23.3                     0.672   32  \n",
      "4    28.1                     0.167   21  \n",
      "..    ...                       ...  ...  \n",
      "764  32.9                     0.171   63  \n",
      "765  36.8                     0.340   27  \n",
      "766  26.2                     0.245   30  \n",
      "767  30.1                     0.349   47  \n",
      "768  30.4                     0.315   23  \n",
      "\n",
      "[769 rows x 9 columns]\n"
     ]
    }
   ],
   "source": [
    "print(X)"
   ]
  },
  {
   "cell_type": "code",
   "execution_count": 10,
   "id": "58bd51c9",
   "metadata": {
    "execution": {
     "iopub.execute_input": "2023-03-28T04:54:59.102731Z",
     "iopub.status.busy": "2023-03-28T04:54:59.102266Z",
     "iopub.status.idle": "2023-03-28T04:54:59.111377Z",
     "shell.execute_reply": "2023-03-28T04:54:59.109433Z"
    },
    "papermill": {
     "duration": 0.022107,
     "end_time": "2023-03-28T04:54:59.113971",
     "exception": false,
     "start_time": "2023-03-28T04:54:59.091864",
     "status": "completed"
    },
    "tags": []
   },
   "outputs": [
    {
     "name": "stdout",
     "output_type": "stream",
     "text": [
      "0      1\n",
      "1      1\n",
      "2      0\n",
      "3      1\n",
      "4      0\n",
      "      ..\n",
      "764    0\n",
      "765    0\n",
      "766    0\n",
      "767    1\n",
      "768    0\n",
      "Name: Outcome, Length: 769, dtype: int64\n"
     ]
    }
   ],
   "source": [
    "print(Y)"
   ]
  },
  {
   "cell_type": "code",
   "execution_count": 11,
   "id": "e9a03379",
   "metadata": {
    "execution": {
     "iopub.execute_input": "2023-03-28T04:54:59.133925Z",
     "iopub.status.busy": "2023-03-28T04:54:59.133510Z",
     "iopub.status.idle": "2023-03-28T04:54:59.139037Z",
     "shell.execute_reply": "2023-03-28T04:54:59.137799Z"
    },
    "papermill": {
     "duration": 0.018512,
     "end_time": "2023-03-28T04:54:59.141370",
     "exception": false,
     "start_time": "2023-03-28T04:54:59.122858",
     "status": "completed"
    },
    "tags": []
   },
   "outputs": [],
   "source": [
    "scaler = StandardScaler()"
   ]
  },
  {
   "cell_type": "code",
   "execution_count": 12,
   "id": "048c5137",
   "metadata": {
    "execution": {
     "iopub.execute_input": "2023-03-28T04:54:59.162123Z",
     "iopub.status.busy": "2023-03-28T04:54:59.161607Z",
     "iopub.status.idle": "2023-03-28T04:54:59.179510Z",
     "shell.execute_reply": "2023-03-28T04:54:59.177942Z"
    },
    "papermill": {
     "duration": 0.032528,
     "end_time": "2023-03-28T04:54:59.182728",
     "exception": false,
     "start_time": "2023-03-28T04:54:59.150200",
     "status": "completed"
    },
    "tags": []
   },
   "outputs": [
    {
     "data": {
      "text/plain": [
       "StandardScaler()"
      ]
     },
     "execution_count": 12,
     "metadata": {},
     "output_type": "execute_result"
    }
   ],
   "source": [
    "scaler.fit(X)"
   ]
  },
  {
   "cell_type": "code",
   "execution_count": 13,
   "id": "634b5f2d",
   "metadata": {
    "execution": {
     "iopub.execute_input": "2023-03-28T04:54:59.210778Z",
     "iopub.status.busy": "2023-03-28T04:54:59.209912Z",
     "iopub.status.idle": "2023-03-28T04:54:59.219151Z",
     "shell.execute_reply": "2023-03-28T04:54:59.217527Z"
    },
    "papermill": {
     "duration": 0.030131,
     "end_time": "2023-03-28T04:54:59.223351",
     "exception": false,
     "start_time": "2023-03-28T04:54:59.193220",
     "status": "completed"
    },
    "tags": []
   },
   "outputs": [],
   "source": [
    "standardized_data = scaler.transform(X)"
   ]
  },
  {
   "cell_type": "code",
   "execution_count": 14,
   "id": "e1e0b5bc",
   "metadata": {
    "execution": {
     "iopub.execute_input": "2023-03-28T04:54:59.252074Z",
     "iopub.status.busy": "2023-03-28T04:54:59.250750Z",
     "iopub.status.idle": "2023-03-28T04:54:59.259594Z",
     "shell.execute_reply": "2023-03-28T04:54:59.258191Z"
    },
    "papermill": {
     "duration": 0.025834,
     "end_time": "2023-03-28T04:54:59.262327",
     "exception": false,
     "start_time": "2023-03-28T04:54:59.236493",
     "status": "completed"
    },
    "tags": []
   },
   "outputs": [
    {
     "name": "stdout",
     "output_type": "stream",
     "text": [
      "[[-1.72979993 -0.54745537 -1.12174562 ...  1.39437665 -0.36479173\n",
      "   1.42318751]\n",
      " [-1.72529524  0.64095163  0.84964082 ...  0.20207138  0.46923126\n",
      "   1.42318751]\n",
      " [-1.72079055 -0.84455712 -1.12174562 ... -0.68581552 -0.36479173\n",
      "  -0.19239735]\n",
      " ...\n",
      " [ 1.72079055  0.34384988  0.00476092 ... -0.73655192 -0.68510491\n",
      "  -0.27742813]\n",
      " [ 1.72529524 -0.84455712  0.16122016 ... -0.24187207 -0.37083538\n",
      "   1.16809516]\n",
      " [ 1.72979993 -0.84455712 -0.87141083 ... -0.20381977 -0.47357734\n",
      "  -0.8726436 ]]\n"
     ]
    }
   ],
   "source": [
    "print(standardized_data)"
   ]
  },
  {
   "cell_type": "code",
   "execution_count": 15,
   "id": "6a2222f4",
   "metadata": {
    "execution": {
     "iopub.execute_input": "2023-03-28T04:54:59.282834Z",
     "iopub.status.busy": "2023-03-28T04:54:59.281904Z",
     "iopub.status.idle": "2023-03-28T04:54:59.288480Z",
     "shell.execute_reply": "2023-03-28T04:54:59.286835Z"
    },
    "papermill": {
     "duration": 0.019772,
     "end_time": "2023-03-28T04:54:59.291226",
     "exception": false,
     "start_time": "2023-03-28T04:54:59.271454",
     "status": "completed"
    },
    "tags": []
   },
   "outputs": [],
   "source": [
    "X = standardized_data\n",
    "Y = diabetes_dataset['Outcome']"
   ]
  },
  {
   "cell_type": "code",
   "execution_count": 16,
   "id": "a1f5ee0e",
   "metadata": {
    "execution": {
     "iopub.execute_input": "2023-03-28T04:54:59.311486Z",
     "iopub.status.busy": "2023-03-28T04:54:59.311034Z",
     "iopub.status.idle": "2023-03-28T04:54:59.319707Z",
     "shell.execute_reply": "2023-03-28T04:54:59.318489Z"
    },
    "papermill": {
     "duration": 0.023345,
     "end_time": "2023-03-28T04:54:59.323643",
     "exception": false,
     "start_time": "2023-03-28T04:54:59.300298",
     "status": "completed"
    },
    "tags": []
   },
   "outputs": [
    {
     "name": "stdout",
     "output_type": "stream",
     "text": [
      "[[-1.72979993 -0.54745537 -1.12174562 ...  1.39437665 -0.36479173\n",
      "   1.42318751]\n",
      " [-1.72529524  0.64095163  0.84964082 ...  0.20207138  0.46923126\n",
      "   1.42318751]\n",
      " [-1.72079055 -0.84455712 -1.12174562 ... -0.68581552 -0.36479173\n",
      "  -0.19239735]\n",
      " ...\n",
      " [ 1.72079055  0.34384988  0.00476092 ... -0.73655192 -0.68510491\n",
      "  -0.27742813]\n",
      " [ 1.72529524 -0.84455712  0.16122016 ... -0.24187207 -0.37083538\n",
      "   1.16809516]\n",
      " [ 1.72979993 -0.84455712 -0.87141083 ... -0.20381977 -0.47357734\n",
      "  -0.8726436 ]]\n",
      "0      1\n",
      "1      1\n",
      "2      0\n",
      "3      1\n",
      "4      0\n",
      "      ..\n",
      "764    0\n",
      "765    0\n",
      "766    0\n",
      "767    1\n",
      "768    0\n",
      "Name: Outcome, Length: 769, dtype: int64\n"
     ]
    }
   ],
   "source": [
    "print(X)\n",
    "print(Y)"
   ]
  },
  {
   "cell_type": "code",
   "execution_count": 17,
   "id": "c483df02",
   "metadata": {
    "execution": {
     "iopub.execute_input": "2023-03-28T04:54:59.344959Z",
     "iopub.status.busy": "2023-03-28T04:54:59.344126Z",
     "iopub.status.idle": "2023-03-28T04:54:59.353107Z",
     "shell.execute_reply": "2023-03-28T04:54:59.352013Z"
    },
    "papermill": {
     "duration": 0.021683,
     "end_time": "2023-03-28T04:54:59.355453",
     "exception": false,
     "start_time": "2023-03-28T04:54:59.333770",
     "status": "completed"
    },
    "tags": []
   },
   "outputs": [],
   "source": [
    "X_train, X_test, Y_train, Y_test = train_test_split(X,Y, test_size = 0.2, random_state=2)"
   ]
  },
  {
   "cell_type": "code",
   "execution_count": 18,
   "id": "b671e4eb",
   "metadata": {
    "execution": {
     "iopub.execute_input": "2023-03-28T04:54:59.376325Z",
     "iopub.status.busy": "2023-03-28T04:54:59.375267Z",
     "iopub.status.idle": "2023-03-28T04:54:59.382191Z",
     "shell.execute_reply": "2023-03-28T04:54:59.380725Z"
    },
    "papermill": {
     "duration": 0.020522,
     "end_time": "2023-03-28T04:54:59.385004",
     "exception": false,
     "start_time": "2023-03-28T04:54:59.364482",
     "status": "completed"
    },
    "tags": []
   },
   "outputs": [
    {
     "name": "stdout",
     "output_type": "stream",
     "text": [
      "(769, 9) (615, 9) (154, 9)\n"
     ]
    }
   ],
   "source": [
    "print(X.shape, X_train.shape, X_test.shape)"
   ]
  },
  {
   "cell_type": "code",
   "execution_count": 19,
   "id": "5ffeb5f7",
   "metadata": {
    "execution": {
     "iopub.execute_input": "2023-03-28T04:54:59.406222Z",
     "iopub.status.busy": "2023-03-28T04:54:59.405843Z",
     "iopub.status.idle": "2023-03-28T04:54:59.411597Z",
     "shell.execute_reply": "2023-03-28T04:54:59.409986Z"
    },
    "papermill": {
     "duration": 0.019402,
     "end_time": "2023-03-28T04:54:59.414127",
     "exception": false,
     "start_time": "2023-03-28T04:54:59.394725",
     "status": "completed"
    },
    "tags": []
   },
   "outputs": [],
   "source": [
    "classifier = svm.SVC(kernel='linear')"
   ]
  },
  {
   "cell_type": "code",
   "execution_count": 20,
   "id": "c06f01b6",
   "metadata": {
    "execution": {
     "iopub.execute_input": "2023-03-28T04:54:59.435099Z",
     "iopub.status.busy": "2023-03-28T04:54:59.434670Z",
     "iopub.status.idle": "2023-03-28T04:54:59.461815Z",
     "shell.execute_reply": "2023-03-28T04:54:59.460606Z"
    },
    "papermill": {
     "duration": 0.040497,
     "end_time": "2023-03-28T04:54:59.464585",
     "exception": false,
     "start_time": "2023-03-28T04:54:59.424088",
     "status": "completed"
    },
    "tags": []
   },
   "outputs": [
    {
     "data": {
      "text/plain": [
       "SVC(kernel='linear')"
      ]
     },
     "execution_count": 20,
     "metadata": {},
     "output_type": "execute_result"
    }
   ],
   "source": [
    "classifier.fit(X_train, Y_train)"
   ]
  },
  {
   "cell_type": "code",
   "execution_count": 21,
   "id": "64f8dd23",
   "metadata": {
    "execution": {
     "iopub.execute_input": "2023-03-28T04:54:59.485503Z",
     "iopub.status.busy": "2023-03-28T04:54:59.485085Z",
     "iopub.status.idle": "2023-03-28T04:54:59.496473Z",
     "shell.execute_reply": "2023-03-28T04:54:59.495403Z"
    },
    "papermill": {
     "duration": 0.024685,
     "end_time": "2023-03-28T04:54:59.499139",
     "exception": false,
     "start_time": "2023-03-28T04:54:59.474454",
     "status": "completed"
    },
    "tags": []
   },
   "outputs": [],
   "source": [
    "X_train_prediction=classifier.predict(X_train)\n",
    "training_data_accuracy = accuracy_score(X_train_prediction, Y_train)"
   ]
  },
  {
   "cell_type": "code",
   "execution_count": 22,
   "id": "f82ff718",
   "metadata": {
    "execution": {
     "iopub.execute_input": "2023-03-28T04:54:59.519731Z",
     "iopub.status.busy": "2023-03-28T04:54:59.519322Z",
     "iopub.status.idle": "2023-03-28T04:54:59.525798Z",
     "shell.execute_reply": "2023-03-28T04:54:59.524602Z"
    },
    "papermill": {
     "duration": 0.020422,
     "end_time": "2023-03-28T04:54:59.528797",
     "exception": false,
     "start_time": "2023-03-28T04:54:59.508375",
     "status": "completed"
    },
    "tags": []
   },
   "outputs": [
    {
     "name": "stdout",
     "output_type": "stream",
     "text": [
      "Accuracy score of the training data :  0.775609756097561\n"
     ]
    }
   ],
   "source": [
    "print('Accuracy score of the training data : ', training_data_accuracy)"
   ]
  },
  {
   "cell_type": "code",
   "execution_count": 23,
   "id": "18e4114b",
   "metadata": {
    "execution": {
     "iopub.execute_input": "2023-03-28T04:54:59.550471Z",
     "iopub.status.busy": "2023-03-28T04:54:59.549907Z",
     "iopub.status.idle": "2023-03-28T04:54:59.557372Z",
     "shell.execute_reply": "2023-03-28T04:54:59.556222Z"
    },
    "papermill": {
     "duration": 0.020731,
     "end_time": "2023-03-28T04:54:59.559927",
     "exception": false,
     "start_time": "2023-03-28T04:54:59.539196",
     "status": "completed"
    },
    "tags": []
   },
   "outputs": [],
   "source": [
    "X_test_prediction = classifier.predict(X_test)\n",
    "test_data_accuracy = accuracy_score(X_test_prediction, Y_test)"
   ]
  },
  {
   "cell_type": "code",
   "execution_count": 24,
   "id": "0f28a8ec",
   "metadata": {
    "execution": {
     "iopub.execute_input": "2023-03-28T04:54:59.580935Z",
     "iopub.status.busy": "2023-03-28T04:54:59.580515Z",
     "iopub.status.idle": "2023-03-28T04:54:59.586978Z",
     "shell.execute_reply": "2023-03-28T04:54:59.585586Z"
    },
    "papermill": {
     "duration": 0.020347,
     "end_time": "2023-03-28T04:54:59.589571",
     "exception": false,
     "start_time": "2023-03-28T04:54:59.569224",
     "status": "completed"
    },
    "tags": []
   },
   "outputs": [
    {
     "name": "stdout",
     "output_type": "stream",
     "text": [
      "Accuracy score of the test data :  0.7987012987012987\n"
     ]
    }
   ],
   "source": [
    "print('Accuracy score of the test data : ', test_data_accuracy)"
   ]
  },
  {
   "cell_type": "code",
   "execution_count": 25,
   "id": "30aa8d19",
   "metadata": {
    "execution": {
     "iopub.execute_input": "2023-03-28T04:54:59.609977Z",
     "iopub.status.busy": "2023-03-28T04:54:59.609545Z",
     "iopub.status.idle": "2023-03-28T04:54:59.615306Z",
     "shell.execute_reply": "2023-03-28T04:54:59.614138Z"
    },
    "papermill": {
     "duration": 0.019139,
     "end_time": "2023-03-28T04:54:59.618120",
     "exception": false,
     "start_time": "2023-03-28T04:54:59.598981",
     "status": "completed"
    },
    "tags": []
   },
   "outputs": [],
   "source": [
    "input_data = (1,5,166,72,19,175,25.8,0.587,51)"
   ]
  },
  {
   "cell_type": "code",
   "execution_count": 26,
   "id": "be82a377",
   "metadata": {
    "execution": {
     "iopub.execute_input": "2023-03-28T04:54:59.639370Z",
     "iopub.status.busy": "2023-03-28T04:54:59.638942Z",
     "iopub.status.idle": "2023-03-28T04:54:59.644176Z",
     "shell.execute_reply": "2023-03-28T04:54:59.642976Z"
    },
    "papermill": {
     "duration": 0.018913,
     "end_time": "2023-03-28T04:54:59.646820",
     "exception": false,
     "start_time": "2023-03-28T04:54:59.627907",
     "status": "completed"
    },
    "tags": []
   },
   "outputs": [],
   "source": [
    "input_data_as_numpy_array = np.asarray(input_data)"
   ]
  },
  {
   "cell_type": "code",
   "execution_count": 27,
   "id": "f8d51976",
   "metadata": {
    "execution": {
     "iopub.execute_input": "2023-03-28T04:54:59.668313Z",
     "iopub.status.busy": "2023-03-28T04:54:59.667089Z",
     "iopub.status.idle": "2023-03-28T04:54:59.672769Z",
     "shell.execute_reply": "2023-03-28T04:54:59.671876Z"
    },
    "papermill": {
     "duration": 0.01886,
     "end_time": "2023-03-28T04:54:59.675085",
     "exception": false,
     "start_time": "2023-03-28T04:54:59.656225",
     "status": "completed"
    },
    "tags": []
   },
   "outputs": [],
   "source": [
    "input_data_reshaped = input_data_as_numpy_array.reshape(1,-1)"
   ]
  },
  {
   "cell_type": "code",
   "execution_count": 28,
   "id": "c5ba597f",
   "metadata": {
    "execution": {
     "iopub.execute_input": "2023-03-28T04:54:59.696652Z",
     "iopub.status.busy": "2023-03-28T04:54:59.695940Z",
     "iopub.status.idle": "2023-03-28T04:54:59.703172Z",
     "shell.execute_reply": "2023-03-28T04:54:59.701596Z"
    },
    "papermill": {
     "duration": 0.021412,
     "end_time": "2023-03-28T04:54:59.706001",
     "exception": false,
     "start_time": "2023-03-28T04:54:59.684589",
     "status": "completed"
    },
    "tags": []
   },
   "outputs": [
    {
     "name": "stdout",
     "output_type": "stream",
     "text": [
      "[[  1.      5.    166.     72.     19.    175.     25.8     0.587  51.   ]]\n"
     ]
    }
   ],
   "source": [
    "print(input_data_reshaped)"
   ]
  },
  {
   "cell_type": "code",
   "execution_count": 29,
   "id": "b9d53575",
   "metadata": {
    "execution": {
     "iopub.execute_input": "2023-03-28T04:54:59.727627Z",
     "iopub.status.busy": "2023-03-28T04:54:59.726822Z",
     "iopub.status.idle": "2023-03-28T04:54:59.736273Z",
     "shell.execute_reply": "2023-03-28T04:54:59.734604Z"
    },
    "papermill": {
     "duration": 0.024065,
     "end_time": "2023-03-28T04:54:59.739605",
     "exception": false,
     "start_time": "2023-03-28T04:54:59.715540",
     "status": "completed"
    },
    "tags": []
   },
   "outputs": [
    {
     "name": "stdout",
     "output_type": "stream",
     "text": [
      "[[-1.72979993  0.34384988  1.41289409  0.14829786 -0.09466342  0.82779745\n",
      "  -0.78728831  0.34835836  1.50821829]]\n"
     ]
    },
    {
     "name": "stderr",
     "output_type": "stream",
     "text": [
      "/opt/conda/lib/python3.7/site-packages/sklearn/base.py:451: UserWarning: X does not have valid feature names, but StandardScaler was fitted with feature names\n",
      "  \"X does not have valid feature names, but\"\n"
     ]
    }
   ],
   "source": [
    "std_data = scaler.transform(input_data_reshaped)\n",
    "print(std_data)"
   ]
  },
  {
   "cell_type": "code",
   "execution_count": 30,
   "id": "1d591c99",
   "metadata": {
    "execution": {
     "iopub.execute_input": "2023-03-28T04:54:59.760696Z",
     "iopub.status.busy": "2023-03-28T04:54:59.760279Z",
     "iopub.status.idle": "2023-03-28T04:54:59.765697Z",
     "shell.execute_reply": "2023-03-28T04:54:59.764827Z"
    },
    "papermill": {
     "duration": 0.019561,
     "end_time": "2023-03-28T04:54:59.768733",
     "exception": false,
     "start_time": "2023-03-28T04:54:59.749172",
     "status": "completed"
    },
    "tags": []
   },
   "outputs": [
    {
     "name": "stdout",
     "output_type": "stream",
     "text": [
      "[1]\n"
     ]
    }
   ],
   "source": [
    "prediction = classifier.predict(std_data)\n",
    "print(prediction)"
   ]
  },
  {
   "cell_type": "code",
   "execution_count": 31,
   "id": "49d6d658",
   "metadata": {
    "execution": {
     "iopub.execute_input": "2023-03-28T04:54:59.789482Z",
     "iopub.status.busy": "2023-03-28T04:54:59.788621Z",
     "iopub.status.idle": "2023-03-28T04:54:59.795286Z",
     "shell.execute_reply": "2023-03-28T04:54:59.794119Z"
    },
    "papermill": {
     "duration": 0.019982,
     "end_time": "2023-03-28T04:54:59.798024",
     "exception": false,
     "start_time": "2023-03-28T04:54:59.778042",
     "status": "completed"
    },
    "tags": []
   },
   "outputs": [
    {
     "name": "stdout",
     "output_type": "stream",
     "text": [
      "The person is diabetic\n"
     ]
    }
   ],
   "source": [
    "if (prediction[0] == 0):\n",
    "  print('The person is not diabetic')\n",
    "else:\n",
    "  print('The person is diabetic')"
   ]
  },
  {
   "cell_type": "code",
   "execution_count": null,
   "id": "3cf0b3ad",
   "metadata": {
    "papermill": {
     "duration": 0.00912,
     "end_time": "2023-03-28T04:54:59.816835",
     "exception": false,
     "start_time": "2023-03-28T04:54:59.807715",
     "status": "completed"
    },
    "tags": []
   },
   "outputs": [],
   "source": []
  }
 ],
 "metadata": {
  "kernelspec": {
   "display_name": "Python 3",
   "language": "python",
   "name": "python3"
  },
  "language_info": {
   "codemirror_mode": {
    "name": "ipython",
    "version": 3
   },
   "file_extension": ".py",
   "mimetype": "text/x-python",
   "name": "python",
   "nbconvert_exporter": "python",
   "pygments_lexer": "ipython3",
   "version": "3.7.12"
  },
  "papermill": {
   "default_parameters": {},
   "duration": 12.679582,
   "end_time": "2023-03-28T04:55:00.547783",
   "environment_variables": {},
   "exception": null,
   "input_path": "__notebook__.ipynb",
   "output_path": "__notebook__.ipynb",
   "parameters": {},
   "start_time": "2023-03-28T04:54:47.868201",
   "version": "2.4.0"
  }
 },
 "nbformat": 4,
 "nbformat_minor": 5
}
